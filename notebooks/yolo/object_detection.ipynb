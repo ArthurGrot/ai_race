{
 "cells": [
  {
   "cell_type": "markdown",
   "metadata": {},
   "source": [
    "# Using the Model"
   ]
  },
  {
   "cell_type": "code",
   "execution_count": null,
   "metadata": {},
   "outputs": [],
   "source": [
    "# Import \n",
    "import cv2 \n",
    "import os\n",
    "import torch\n",
    "import base64\n",
    "from io import BytesIO\n",
    "from PIL import Image"
   ]
  },
  {
   "cell_type": "code",
   "execution_count": null,
   "metadata": {},
   "outputs": [],
   "source": [
    "# Model öffnen\n",
    "dirname = os.path.abspath('')\n",
    "foldername = os.path.join(dirname, 'yolov5/')\n",
    "# Hier den Ordnernamen ändern wenn man ein neues Model trainiert hat (exp1 -> expX)\n",
    "best = os.path.join(dirname, 'yolov5/best.pt') # yolov5/runs/train/exp1/weights/best.pt\n",
    "model = torch.hub.load(foldername, 'custom', path=best, source='local', device='cpu') # local repo\n",
    "# model.cuda()"
   ]
  },
  {
   "cell_type": "code",
   "execution_count": null,
   "metadata": {},
   "outputs": [],
   "source": [
    "# Videoaufnahme\n",
    "\n",
    "# Auslesen der Kamera\n",
    "vid = cv2.VideoCapture(0) \n",
    "vid.set(cv2.CAP_PROP_FPS, 1)\n",
    "\n",
    "while(True): \n",
    "\n",
    "\n",
    "    ret, frame = vid.read() \n",
    "    result = model(frame,size=480)\n",
    "\n",
    "    result.imgs # array of original images (as np array) passed to model for inference\n",
    "    result.render()  # updates results.imgs with boxes and labels\n",
    "\n",
    "    cv2.imshow('frame', result.imgs[0]) \n",
    "    \n",
    "        \n",
    "    # Das Programm mit q beenden\n",
    "    if cv2.waitKey(1) & 0xFF == ord('q'): \n",
    "        break\n",
    "    \n",
    "\n",
    "vid.release() \n",
    "cv2.destroyAllWindows() \n"
   ]
  },
  {
   "cell_type": "code",
   "execution_count": null,
   "metadata": {},
   "outputs": [],
   "source": [
    "# Alternativ kann auch dieses commando benutzt werden wenn die Resultate nur angezeigt werden sollen\n",
    "!python yolov5/detect.py --source 0 --weights yolov5/runs/train/exp/weights/best.pt\n",
    "#--weights yolov5/best.pt"
   ]
  }
 ],
 "metadata": {
  "interpreter": {
   "hash": "bdc236ce8dd56ba03153373e79f0c5d87ce73d8b89d3db3ad09699c55f79b368"
  },
  "kernelspec": {
   "display_name": "Python 3.9.10 64-bit (windows store)",
   "language": "python",
   "name": "python3"
  },
  "language_info": {
   "codemirror_mode": {
    "name": "ipython",
    "version": 3
   },
   "file_extension": ".py",
   "mimetype": "text/x-python",
   "name": "python",
   "nbconvert_exporter": "python",
   "pygments_lexer": "ipython3",
   "version": "3.7.11"
  },
  "orig_nbformat": 4
 },
 "nbformat": 4,
 "nbformat_minor": 2
}
